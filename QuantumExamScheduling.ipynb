{
 "cells": [
  {
   "cell_type": "code",
   "metadata": {
    "ExecuteTime": {
     "end_time": "2024-09-17T17:29:48.375415Z",
     "start_time": "2024-09-17T17:29:47.808503Z"
    }
   },
   "source": [
    "import pandas as pd\n",
    "import numpy as np\n",
    "import random\n",
    "import datetime\n",
    "\n",
    "import matplotlib.pyplot as plt\n",
    "plt.rcParams['font.family'] = 'Times New Roman'"
   ],
   "outputs": [],
   "execution_count": 1
  },
  {
   "cell_type": "markdown",
   "source": [],
   "metadata": {
    "collapsed": false
   }
  },
  {
   "cell_type": "code",
   "source": [
    "from matplotlib.colors import ListedColormap\n",
    "colors = ['white', '#B7F8FF']\n",
    "cmap = ListedColormap(colors)\n",
    "\n",
    "def create_binary_img(df, xlabel=None, ylabel=None, savefig=None):\n",
    "    # Create figure and axis\n",
    "    fig, ax = plt.subplots(figsize=(3, 3))\n",
    "\n",
    "    # Plot the pattern\n",
    "    cax = ax.matshow(df, cmap=cmap, vmin=0, vmax=1)\n",
    "\n",
    "    # Set x-axis and y-axis labels\n",
    "    ax.set_xticks(np.arange(len(df.columns)))\n",
    "    ax.set_yticks(np.arange(len(df.index)))\n",
    "    ax.set_xticklabels(df.columns)\n",
    "    ax.set_yticklabels(df.index)\n",
    "    # Adjust tick parameters and hide bottom ticks\n",
    "    ax.tick_params(bottom=False)\n",
    "\n",
    "    # Add 0/1 labels in each cell\n",
    "    for i in range(len(df.index)):\n",
    "        for j in range(len(df.columns)):\n",
    "            value = df.values[i, j]\n",
    "            ax.text(j, i, str(value), ha='center', va='center', color='black')\n",
    "\n",
    "    plt.title(xlabel)\n",
    "    plt.ylabel(ylabel)\n",
    "\n",
    "    # Draw vertical grid lines\n",
    "    for j in range(1, len(df.columns)):\n",
    "        ax.axvline(j - 0.51, color='#bbb', linewidth=0.1, alpha=1)\n",
    "\n",
    "    # Draw horizontal grid lines\n",
    "    for i in range(1, len(df.index)):\n",
    "        ax.axhline(i - 0.52, color='#bbb', linewidth=0.1, alpha=1)\n",
    "\n",
    "    plt.tight_layout(pad=0.2)\n",
    "\n",
    "    if savefig:\n",
    "        plt.savefig(savefig + \".jpg\", dpi=300)\n",
    "\n",
    "    plt.show()"
   ],
   "metadata": {
    "collapsed": false,
    "pycharm": {
     "name": "#%%\n"
    },
    "ExecuteTime": {
     "end_time": "2024-09-17T17:29:48.391613Z",
     "start_time": "2024-09-17T17:29:48.376460Z"
    }
   },
   "outputs": [],
   "execution_count": 2
  },
  {
   "cell_type": "code",
   "metadata": {
    "pycharm": {
     "name": "#%%\n"
    },
    "ExecuteTime": {
     "end_time": "2024-09-17T17:29:48.593895Z",
     "start_time": "2024-09-17T17:29:48.392120Z"
    }
   },
   "source": [
    "# Read data\n",
    "# note that StudentID must be converted to string type. \n",
    "# If there are extra rows at the top of the table, set skiprows to skip them\n",
    "df = pd.read_excel(\"./example data (simplified).xlsx\", skiprows=0)\n",
    "df[\"StudentID\"] = df[\"StudentID\"].astype(str)\n",
    "df\n"
   ],
   "outputs": [
    {
     "data": {
      "text/plain": [
       "   StudentID CourseID\n",
       "0         S1        A\n",
       "1         S1        B\n",
       "2         S1        C\n",
       "3         S1        D\n",
       "4         S1        E\n",
       "5         S2        B\n",
       "6         S2        C\n",
       "7         S2        E\n",
       "8         S2        F\n",
       "9         S3        A\n",
       "10        S3        D\n",
       "11        S3        G\n",
       "12        S4        A\n",
       "13        S4        H\n",
       "14        S4        I\n",
       "15        S5        C\n",
       "16        S5        J\n",
       "17        S6        B\n",
       "18        S6        J"
      ],
      "text/html": [
       "<div>\n",
       "<style scoped>\n",
       "    .dataframe tbody tr th:only-of-type {\n",
       "        vertical-align: middle;\n",
       "    }\n",
       "\n",
       "    .dataframe tbody tr th {\n",
       "        vertical-align: top;\n",
       "    }\n",
       "\n",
       "    .dataframe thead th {\n",
       "        text-align: right;\n",
       "    }\n",
       "</style>\n",
       "<table border=\"1\" class=\"dataframe\">\n",
       "  <thead>\n",
       "    <tr style=\"text-align: right;\">\n",
       "      <th></th>\n",
       "      <th>StudentID</th>\n",
       "      <th>CourseID</th>\n",
       "    </tr>\n",
       "  </thead>\n",
       "  <tbody>\n",
       "    <tr>\n",
       "      <th>0</th>\n",
       "      <td>S1</td>\n",
       "      <td>A</td>\n",
       "    </tr>\n",
       "    <tr>\n",
       "      <th>1</th>\n",
       "      <td>S1</td>\n",
       "      <td>B</td>\n",
       "    </tr>\n",
       "    <tr>\n",
       "      <th>2</th>\n",
       "      <td>S1</td>\n",
       "      <td>C</td>\n",
       "    </tr>\n",
       "    <tr>\n",
       "      <th>3</th>\n",
       "      <td>S1</td>\n",
       "      <td>D</td>\n",
       "    </tr>\n",
       "    <tr>\n",
       "      <th>4</th>\n",
       "      <td>S1</td>\n",
       "      <td>E</td>\n",
       "    </tr>\n",
       "    <tr>\n",
       "      <th>5</th>\n",
       "      <td>S2</td>\n",
       "      <td>B</td>\n",
       "    </tr>\n",
       "    <tr>\n",
       "      <th>6</th>\n",
       "      <td>S2</td>\n",
       "      <td>C</td>\n",
       "    </tr>\n",
       "    <tr>\n",
       "      <th>7</th>\n",
       "      <td>S2</td>\n",
       "      <td>E</td>\n",
       "    </tr>\n",
       "    <tr>\n",
       "      <th>8</th>\n",
       "      <td>S2</td>\n",
       "      <td>F</td>\n",
       "    </tr>\n",
       "    <tr>\n",
       "      <th>9</th>\n",
       "      <td>S3</td>\n",
       "      <td>A</td>\n",
       "    </tr>\n",
       "    <tr>\n",
       "      <th>10</th>\n",
       "      <td>S3</td>\n",
       "      <td>D</td>\n",
       "    </tr>\n",
       "    <tr>\n",
       "      <th>11</th>\n",
       "      <td>S3</td>\n",
       "      <td>G</td>\n",
       "    </tr>\n",
       "    <tr>\n",
       "      <th>12</th>\n",
       "      <td>S4</td>\n",
       "      <td>A</td>\n",
       "    </tr>\n",
       "    <tr>\n",
       "      <th>13</th>\n",
       "      <td>S4</td>\n",
       "      <td>H</td>\n",
       "    </tr>\n",
       "    <tr>\n",
       "      <th>14</th>\n",
       "      <td>S4</td>\n",
       "      <td>I</td>\n",
       "    </tr>\n",
       "    <tr>\n",
       "      <th>15</th>\n",
       "      <td>S5</td>\n",
       "      <td>C</td>\n",
       "    </tr>\n",
       "    <tr>\n",
       "      <th>16</th>\n",
       "      <td>S5</td>\n",
       "      <td>J</td>\n",
       "    </tr>\n",
       "    <tr>\n",
       "      <th>17</th>\n",
       "      <td>S6</td>\n",
       "      <td>B</td>\n",
       "    </tr>\n",
       "    <tr>\n",
       "      <th>18</th>\n",
       "      <td>S6</td>\n",
       "      <td>J</td>\n",
       "    </tr>\n",
       "  </tbody>\n",
       "</table>\n",
       "</div>"
      ]
     },
     "execution_count": 3,
     "metadata": {},
     "output_type": "execute_result"
    }
   ],
   "execution_count": 3
  },
  {
   "cell_type": "code",
   "metadata": {
    "pycharm": {
     "name": "#%%\n"
    },
    "ExecuteTime": {
     "end_time": "2024-09-17T17:29:48.609428Z",
     "start_time": "2024-09-17T17:29:48.595881Z"
    }
   },
   "source": [
    "# Analyze the number of students per course\n",
    "lesson_count = df[\"CourseID\"].value_counts().sort_index()\n",
    "lesson_count"
   ],
   "outputs": [
    {
     "data": {
      "text/plain": [
       "CourseID\n",
       "A    3\n",
       "B    3\n",
       "C    3\n",
       "D    2\n",
       "E    2\n",
       "F    1\n",
       "G    1\n",
       "H    1\n",
       "I    1\n",
       "J    2\n",
       "Name: count, dtype: int64"
      ]
     },
     "execution_count": 4,
     "metadata": {},
     "output_type": "execute_result"
    }
   ],
   "execution_count": 4
  },
  {
   "cell_type": "code",
   "metadata": {
    "pycharm": {
     "name": "#%%\n"
    },
    "ExecuteTime": {
     "end_time": "2024-09-17T17:29:48.625041Z",
     "start_time": "2024-09-17T17:29:48.611421Z"
    }
   },
   "source": [
    "# Count the number of courses per student\n",
    "student_count = df[\"StudentID\"].value_counts().sort_index()\n",
    "student_count"
   ],
   "outputs": [
    {
     "data": {
      "text/plain": [
       "StudentID\n",
       "S1    5\n",
       "S2    4\n",
       "S3    3\n",
       "S4    3\n",
       "S5    2\n",
       "S6    2\n",
       "Name: count, dtype: int64"
      ]
     },
     "execution_count": 5,
     "metadata": {},
     "output_type": "execute_result"
    }
   ],
   "execution_count": 5
  },
  {
   "cell_type": "code",
   "metadata": {
    "pycharm": {
     "name": "#%%\n"
    },
    "ExecuteTime": {
     "end_time": "2024-09-17T17:29:48.921533Z",
     "start_time": "2024-09-17T17:29:48.627122Z"
    }
   },
   "source": [
    "# Construct a [StudentID-Course] matrix, marking participants with 1\n",
    "test = pd.DataFrame(0, columns=lesson_count.index, index=student_count.index)\n",
    "for i, item in df.iterrows():\n",
    "    test.loc[item[\"StudentID\"], item[\"CourseID\"]] = 1\n",
    "\n",
    "# test.to_excel(\"test.xlsx\")\n",
    "create_binary_img(test, xlabel='Course', ylabel='Student', savefig='img/test')\n",
    "test"
   ],
   "outputs": [
    {
     "data": {
      "text/plain": [
       "<Figure size 300x300 with 1 Axes>"
      ],
      "image/png": "[encoded data removed]"
     },
     "metadata": {},
     "output_type": "display_data"
    },
    {
     "data": {
      "text/plain": [
       "CourseID   A  B  C  D  E  F  G  H  I  J\n",
       "StudentID                              \n",
       "S1         1  1  1  1  1  0  0  0  0  0\n",
       "S2         0  1  1  0  1  1  0  0  0  0\n",
       "S3         1  0  0  1  0  0  1  0  0  0\n",
       "S4         1  0  0  0  0  0  0  1  1  0\n",
       "S5         0  0  1  0  0  0  0  0  0  1\n",
       "S6         0  1  0  0  0  0  0  0  0  1"
      ],
      "text/html": [
       "<div>\n",
       "<style scoped>\n",
       "    .dataframe tbody tr th:only-of-type {\n",
       "        vertical-align: middle;\n",
       "    }\n",
       "\n",
       "    .dataframe tbody tr th {\n",
       "        vertical-align: top;\n",
       "    }\n",
       "\n",
       "    .dataframe thead th {\n",
       "        text-align: right;\n",
       "    }\n",
       "</style>\n",
       "<table border=\"1\" class=\"dataframe\">\n",
       "  <thead>\n",
       "    <tr style=\"text-align: right;\">\n",
       "      <th>CourseID</th>\n",
       "      <th>A</th>\n",
       "      <th>B</th>\n",
       "      <th>C</th>\n",
       "      <th>D</th>\n",
       "      <th>E</th>\n",
       "      <th>F</th>\n",
       "      <th>G</th>\n",
       "      <th>H</th>\n",
       "      <th>I</th>\n",
       "      <th>J</th>\n",
       "    </tr>\n",
       "    <tr>\n",
       "      <th>StudentID</th>\n",
       "      <th></th>\n",
       "      <th></th>\n",
       "      <th></th>\n",
       "      <th></th>\n",
       "      <th></th>\n",
       "      <th></th>\n",
       "      <th></th>\n",
       "      <th></th>\n",
       "      <th></th>\n",
       "      <th></th>\n",
       "    </tr>\n",
       "  </thead>\n",
       "  <tbody>\n",
       "    <tr>\n",
       "      <th>S1</th>\n",
       "      <td>1</td>\n",
       "      <td>1</td>\n",
       "      <td>1</td>\n",
       "      <td>1</td>\n",
       "      <td>1</td>\n",
       "      <td>0</td>\n",
       "      <td>0</td>\n",
       "      <td>0</td>\n",
       "      <td>0</td>\n",
       "      <td>0</td>\n",
       "    </tr>\n",
       "    <tr>\n",
       "      <th>S2</th>\n",
       "      <td>0</td>\n",
       "      <td>1</td>\n",
       "      <td>1</td>\n",
       "      <td>0</td>\n",
       "      <td>1</td>\n",
       "      <td>1</td>\n",
       "      <td>0</td>\n",
       "      <td>0</td>\n",
       "      <td>0</td>\n",
       "      <td>0</td>\n",
       "    </tr>\n",
       "    <tr>\n",
       "      <th>S3</th>\n",
       "      <td>1</td>\n",
       "      <td>0</td>\n",
       "      <td>0</td>\n",
       "      <td>1</td>\n",
       "      <td>0</td>\n",
       "      <td>0</td>\n",
       "      <td>1</td>\n",
       "      <td>0</td>\n",
       "      <td>0</td>\n",
       "      <td>0</td>\n",
       "    </tr>\n",
       "    <tr>\n",
       "      <th>S4</th>\n",
       "      <td>1</td>\n",
       "      <td>0</td>\n",
       "      <td>0</td>\n",
       "      <td>0</td>\n",
       "      <td>0</td>\n",
       "      <td>0</td>\n",
       "      <td>0</td>\n",
       "      <td>1</td>\n",
       "      <td>1</td>\n",
       "      <td>0</td>\n",
       "    </tr>\n",
       "    <tr>\n",
       "      <th>S5</th>\n",
       "      <td>0</td>\n",
       "      <td>0</td>\n",
       "      <td>1</td>\n",
       "      <td>0</td>\n",
       "      <td>0</td>\n",
       "      <td>0</td>\n",
       "      <td>0</td>\n",
       "      <td>0</td>\n",
       "      <td>0</td>\n",
       "      <td>1</td>\n",
       "    </tr>\n",
       "    <tr>\n",
       "      <th>S6</th>\n",
       "      <td>0</td>\n",
       "      <td>1</td>\n",
       "      <td>0</td>\n",
       "      <td>0</td>\n",
       "      <td>0</td>\n",
       "      <td>0</td>\n",
       "      <td>0</td>\n",
       "      <td>0</td>\n",
       "      <td>0</td>\n",
       "      <td>1</td>\n",
       "    </tr>\n",
       "  </tbody>\n",
       "</table>\n",
       "</div>"
      ]
     },
     "execution_count": 6,
     "metadata": {},
     "output_type": "execute_result"
    }
   ],
   "execution_count": 6
  },
  {
   "cell_type": "code",
   "source": [
    "# Calculate the conflict matrix\n",
    "contradiction = pd.DataFrame(data=0, columns=lesson_count.index, index=lesson_count.index)\n",
    "# Mark all conflicting courses\n",
    "for i, item in test.iterrows():\n",
    "    # All courses that a student needs to take\n",
    "    lessons = item[item == 1].index\n",
    "    # Courses for this student that cannot be taken simultaneously, marked as conflicts with 1\n",
    "    contradiction.loc[lessons, lessons] = 1\n",
    "\n",
    "# Courses will not conflict with themselves\n",
    "for lesson in df[\"CourseID\"].unique():\n",
    "    contradiction.loc[lesson, lesson] = 0\n",
    "# contradiction.to_excel(\"contradiction.xlsx\")\n",
    "create_binary_img(contradiction, xlabel='Course j', ylabel='Course i', savefig='img/contradiction')\n",
    "contradiction"
   ],
   "metadata": {
    "collapsed": false,
    "pycharm": {
     "name": "#%%\n"
    },
    "ExecuteTime": {
     "end_time": "2024-09-17T17:29:49.277990Z",
     "start_time": "2024-09-17T17:29:48.922925Z"
    }
   },
   "outputs": [
    {
     "data": {
      "text/plain": [
       "<Figure size 300x300 with 1 Axes>"
      ],
      "image/png": "[encoded data removed]"
     },
     "metadata": {},
     "output_type": "display_data"
    },
    {
     "data": {
      "text/plain": [
       "CourseID  A  B  C  D  E  F  G  H  I  J\n",
       "CourseID                              \n",
       "A         0  1  1  1  1  0  1  1  1  0\n",
       "B         1  0  1  1  1  1  0  0  0  1\n",
       "C         1  1  0  1  1  1  0  0  0  1\n",
       "D         1  1  1  0  1  0  1  0  0  0\n",
       "E         1  1  1  1  0  1  0  0  0  0\n",
       "F         0  1  1  0  1  0  0  0  0  0\n",
       "G         1  0  0  1  0  0  0  0  0  0\n",
       "H         1  0  0  0  0  0  0  0  1  0\n",
       "I         1  0  0  0  0  0  0  1  0  0\n",
       "J         0  1  1  0  0  0  0  0  0  0"
      ],
      "text/html": [
       "<div>\n",
       "<style scoped>\n",
       "    .dataframe tbody tr th:only-of-type {\n",
       "        vertical-align: middle;\n",
       "    }\n",
       "\n",
       "    .dataframe tbody tr th {\n",
       "        vertical-align: top;\n",
       "    }\n",
       "\n",
       "    .dataframe thead th {\n",
       "        text-align: right;\n",
       "    }\n",
       "</style>\n",
       "<table border=\"1\" class=\"dataframe\">\n",
       "  <thead>\n",
       "    <tr style=\"text-align: right;\">\n",
       "      <th>CourseID</th>\n",
       "      <th>A</th>\n",
       "      <th>B</th>\n",
       "      <th>C</th>\n",
       "      <th>D</th>\n",
       "      <th>E</th>\n",
       "      <th>F</th>\n",
       "      <th>G</th>\n",
       "      <th>H</th>\n",
       "      <th>I</th>\n",
       "      <th>J</th>\n",
       "    </tr>\n",
       "    <tr>\n",
       "      <th>CourseID</th>\n",
       "      <th></th>\n",
       "      <th></th>\n",
       "      <th></th>\n",
       "      <th></th>\n",
       "      <th></th>\n",
       "      <th></th>\n",
       "      <th></th>\n",
       "      <th></th>\n",
       "      <th></th>\n",
       "      <th></th>\n",
       "    </tr>\n",
       "  </thead>\n",
       "  <tbody>\n",
       "    <tr>\n",
       "      <th>A</th>\n",
       "      <td>0</td>\n",
       "      <td>1</td>\n",
       "      <td>1</td>\n",
       "      <td>1</td>\n",
       "      <td>1</td>\n",
       "      <td>0</td>\n",
       "      <td>1</td>\n",
       "      <td>1</td>\n",
       "      <td>1</td>\n",
       "      <td>0</td>\n",
       "    </tr>\n",
       "    <tr>\n",
       "      <th>B</th>\n",
       "      <td>1</td>\n",
       "      <td>0</td>\n",
       "      <td>1</td>\n",
       "      <td>1</td>\n",
       "      <td>1</td>\n",
       "      <td>1</td>\n",
       "      <td>0</td>\n",
       "      <td>0</td>\n",
       "      <td>0</td>\n",
       "      <td>1</td>\n",
       "    </tr>\n",
       "    <tr>\n",
       "      <th>C</th>\n",
       "      <td>1</td>\n",
       "      <td>1</td>\n",
       "      <td>0</td>\n",
       "      <td>1</td>\n",
       "      <td>1</td>\n",
       "      <td>1</td>\n",
       "      <td>0</td>\n",
       "      <td>0</td>\n",
       "      <td>0</td>\n",
       "      <td>1</td>\n",
       "    </tr>\n",
       "    <tr>\n",
       "      <th>D</th>\n",
       "      <td>1</td>\n",
       "      <td>1</td>\n",
       "      <td>1</td>\n",
       "      <td>0</td>\n",
       "      <td>1</td>\n",
       "      <td>0</td>\n",
       "      <td>1</td>\n",
       "      <td>0</td>\n",
       "      <td>0</td>\n",
       "      <td>0</td>\n",
       "    </tr>\n",
       "    <tr>\n",
       "      <th>E</th>\n",
       "      <td>1</td>\n",
       "      <td>1</td>\n",
       "      <td>1</td>\n",
       "      <td>1</td>\n",
       "      <td>0</td>\n",
       "      <td>1</td>\n",
       "      <td>0</td>\n",
       "      <td>0</td>\n",
       "      <td>0</td>\n",
       "      <td>0</td>\n",
       "    </tr>\n",
       "    <tr>\n",
       "      <th>F</th>\n",
       "      <td>0</td>\n",
       "      <td>1</td>\n",
       "      <td>1</td>\n",
       "      <td>0</td>\n",
       "      <td>1</td>\n",
       "      <td>0</td>\n",
       "      <td>0</td>\n",
       "      <td>0</td>\n",
       "      <td>0</td>\n",
       "      <td>0</td>\n",
       "    </tr>\n",
       "    <tr>\n",
       "      <th>G</th>\n",
       "      <td>1</td>\n",
       "      <td>0</td>\n",
       "      <td>0</td>\n",
       "      <td>1</td>\n",
       "      <td>0</td>\n",
       "      <td>0</td>\n",
       "      <td>0</td>\n",
       "      <td>0</td>\n",
       "      <td>0</td>\n",
       "      <td>0</td>\n",
       "    </tr>\n",
       "    <tr>\n",
       "      <th>H</th>\n",
       "      <td>1</td>\n",
       "      <td>0</td>\n",
       "      <td>0</td>\n",
       "      <td>0</td>\n",
       "      <td>0</td>\n",
       "      <td>0</td>\n",
       "      <td>0</td>\n",
       "      <td>0</td>\n",
       "      <td>1</td>\n",
       "      <td>0</td>\n",
       "    </tr>\n",
       "    <tr>\n",
       "      <th>I</th>\n",
       "      <td>1</td>\n",
       "      <td>0</td>\n",
       "      <td>0</td>\n",
       "      <td>0</td>\n",
       "      <td>0</td>\n",
       "      <td>0</td>\n",
       "      <td>0</td>\n",
       "      <td>1</td>\n",
       "      <td>0</td>\n",
       "      <td>0</td>\n",
       "    </tr>\n",
       "    <tr>\n",
       "      <th>J</th>\n",
       "      <td>0</td>\n",
       "      <td>1</td>\n",
       "      <td>1</td>\n",
       "      <td>0</td>\n",
       "      <td>0</td>\n",
       "      <td>0</td>\n",
       "      <td>0</td>\n",
       "      <td>0</td>\n",
       "      <td>0</td>\n",
       "      <td>0</td>\n",
       "    </tr>\n",
       "  </tbody>\n",
       "</table>\n",
       "</div>"
      ]
     },
     "execution_count": 7,
     "metadata": {},
     "output_type": "execute_result"
    }
   ],
   "execution_count": 7
  },
  {
   "cell_type": "code",
   "source": [
    "import networkx as nx\n",
    "\n",
    "# Create an undirected graph object\n",
    "G = nx.Graph()\n",
    "\n",
    "# Add nodes to the graph\n",
    "G.add_nodes_from(contradiction.columns)\n",
    "\n",
    "# Add edges to the graph\n",
    "for i in range(len(contradiction.columns)):\n",
    "    for j in range(i + 1, len(contradiction.columns)):\n",
    "        if contradiction.iloc[i, j] > 0:\n",
    "            G.add_edge(contradiction.columns[i], contradiction.columns[j])\n",
    "\n",
    "# Draw the graph\n",
    "pos = nx.shell_layout(G, nlist=[['A', 'J'], ['C', 'F', 'E', 'H', 'I', 'D', 'G', 'B']], rotate=(6/8 + 1/16) * np.pi)\n",
    "pos[\"A\"] = (0, 0)\n",
    "pos[\"J\"] = (0, -1.1)\n",
    "plt.figure(figsize=(8, 5), dpi=100)\n",
    "nx.draw(G, pos, with_labels=True, node_size=2000, font_size=24, node_color='skyblue', font_color='black')\n",
    "plt.savefig(\"img/node_graph.svg\", format=\"svg\")"
   ],
   "metadata": {
    "collapsed": false,
    "pycharm": {
     "name": "#%%\n"
    },
    "ExecuteTime": {
     "end_time": "2024-09-17T17:29:49.509313Z",
     "start_time": "2024-09-17T17:29:49.279115Z"
    }
   },
   "outputs": [
    {
     "data": {
      "text/plain": [
       "<Figure size 800x500 with 1 Axes>"
      ],
      "image/png": "[encoded data removed]"
     },
     "metadata": {},
     "output_type": "display_data"
    }
   ],
   "execution_count": 8
  },
  {
   "metadata": {
    "ExecuteTime": {
     "end_time": "2024-09-17T17:29:49.524816Z",
     "start_time": "2024-09-17T17:29:49.509908Z"
    }
   },
   "cell_type": "code",
   "source": "nx.to_numpy_array(G, nodelist=sorted(G.nodes()))",
   "outputs": [
    {
     "data": {
      "text/plain": [
       "array([[0., 1., 1., 1., 1., 0., 1., 1., 1., 0.],\n",
       "       [1., 0., 1., 1., 1., 1., 0., 0., 0., 1.],\n",
       "       [1., 1., 0., 1., 1., 1., 0., 0., 0., 1.],\n",
       "       [1., 1., 1., 0., 1., 0., 1., 0., 0., 0.],\n",
       "       [1., 1., 1., 1., 0., 1., 0., 0., 0., 0.],\n",
       "       [0., 1., 1., 0., 1., 0., 0., 0., 0., 0.],\n",
       "       [1., 0., 0., 1., 0., 0., 0., 0., 0., 0.],\n",
       "       [1., 0., 0., 0., 0., 0., 0., 0., 1., 0.],\n",
       "       [1., 0., 0., 0., 0., 0., 0., 1., 0., 0.],\n",
       "       [0., 1., 1., 0., 0., 0., 0., 0., 0., 0.]])"
      ]
     },
     "execution_count": 9,
     "metadata": {},
     "output_type": "execute_result"
    }
   ],
   "execution_count": 9
  },
  {
   "cell_type": "code",
   "source": [
    "from pyqubo import Array, Placeholder, Constraint"
   ],
   "metadata": {
    "collapsed": false,
    "pycharm": {
     "name": "#%%\n"
    },
    "ExecuteTime": {
     "end_time": "2024-09-17T17:29:49.633207Z",
     "start_time": "2024-09-17T17:29:49.527337Z"
    }
   },
   "outputs": [],
   "execution_count": 10
  },
  {
   "cell_type": "code",
   "source": [
    "# Number of unique courses\n",
    "n_lesson = len(df[\"CourseID\"].unique())\n",
    "\n",
    "# Number of batches (e.g., exam slots or periods)\n",
    "n_batch = 5\n",
    "\n",
    "# Create a binary array with dimensions (n_lesson, n_batch)\n",
    "# 'c' indicates a new array, 'BINARY' specifies binary values (0 or 1)\n",
    "x = Array.create('c', (n_lesson, n_batch), 'BINARY')"
   ],
   "metadata": {
    "collapsed": false,
    "pycharm": {
     "name": "#%%\n"
    },
    "ExecuteTime": {
     "end_time": "2024-09-17T17:29:49.648888Z",
     "start_time": "2024-09-17T17:29:49.634209Z"
    }
   },
   "outputs": [],
   "execution_count": 11
  },
  {
   "cell_type": "code",
   "source": [
    "# Each course should be scheduled exactly once\n",
    "constraint1 = 0.0\n",
    "for i in range(n_lesson):\n",
    "    # For each course, create a constraint that ensures it is scheduled exactly once\n",
    "    constraint1 += Constraint((sum(x[i, k] for k in range(n_batch)) - 1)**2, label=\"threshold1-{}\".format(i))\n",
    "\n",
    "# Conflicting courses cannot be scheduled simultaneously\n",
    "constraint2 = 0.0\n",
    "for i in range(n_lesson):\n",
    "    for j in range(i + 1, n_lesson):\n",
    "        for k in range(n_batch):\n",
    "            # Check if courses i and j are in conflict\n",
    "            if contradiction.iloc[i, j] > 0:\n",
    "                # Create a constraint to ensure that conflicting courses are not scheduled in the same batch\n",
    "                constraint2 += Constraint(x[i, k] * x[j, k], label=\"threshold2-{}_{}_{}\".format(i, j, k))\n",
    "\n",
    "# Initialize profit variable\n",
    "profit=0.0"
   ],
   "metadata": {
    "collapsed": false,
    "pycharm": {
     "name": "#%%\n"
    },
    "ExecuteTime": {
     "end_time": "2024-09-17T17:29:49.664145Z",
     "start_time": "2024-09-17T17:29:49.649883Z"
    }
   },
   "outputs": [],
   "execution_count": 12
  },
  {
   "cell_type": "code",
   "source": [
    "# Construct hamiltonian\n",
    "A = Placeholder(\"A\")\n",
    "H = profit + A * (constraint1+constraint2)\n",
    "\n",
    "# Compile model\n",
    "model = H.compile()\n",
    "\n",
    "# Generate QUBO\n",
    "feed_dict = {'A': 1e3}\n",
    "bqm = model.to_bqm(feed_dict=feed_dict)"
   ],
   "metadata": {
    "collapsed": false,
    "pycharm": {
     "name": "#%%\n"
    },
    "ExecuteTime": {
     "end_time": "2024-09-17T17:29:49.679366Z",
     "start_time": "2024-09-17T17:29:49.665147Z"
    }
   },
   "outputs": [],
   "execution_count": 13
  },
  {
   "cell_type": "code",
   "source": [
    "# Display the QUBO matrix\n",
    "\n",
    "# Convert the model to QUBO format and get the offset\n",
    "qubo, offset = model.to_qubo(feed_dict=feed_dict)\n",
    "print(\"Number of terms in polynomial:\", len(qubo), \", Offset:\", offset)\n",
    "\n",
    "# Extract all unique variables from the QUBO dictionary\n",
    "variables = set()\n",
    "for var_pair in qubo.keys():\n",
    "    variables.update(var_pair)\n",
    "\n",
    "# Create a mapping from variables to indices\n",
    "variable_to_index = {var: index for index, var in enumerate(variables)}\n",
    "\n",
    "# Determine the size of the matrix based on the number of unique variables\n",
    "max_index = len(variables)\n",
    "\n",
    "# Create an empty matrix to hold the QUBO coefficients\n",
    "qubo_matrix = np.zeros((max_index, max_index))\n",
    "\n",
    "# Map QUBO terms to the matrix\n",
    "for (var1, var2), value in qubo.items():\n",
    "    index1 = variable_to_index[var1]\n",
    "    index2 = variable_to_index[var2]\n",
    "    qubo_matrix[index1, index2] = value\n",
    "    qubo_matrix[index2, index1] = value  # Ensure the matrix is symmetric\n",
    "\n",
    "# Output the shape of the QUBO matrix\n",
    "qubo_matrix.shape"
   ],
   "metadata": {
    "collapsed": false,
    "pycharm": {
     "name": "#%%\n"
    },
    "ExecuteTime": {
     "end_time": "2024-09-17T17:29:49.695145Z",
     "start_time": "2024-09-17T17:29:49.680511Z"
    }
   },
   "outputs": [
    {
     "name": "stdout",
     "output_type": "stream",
     "text": [
      "Number of terms in polynomial: 250 , Offset: 10000.0\n"
     ]
    },
    {
     "data": {
      "text/plain": [
       "(50, 50)"
      ]
     },
     "execution_count": 14,
     "metadata": {},
     "output_type": "execute_result"
    }
   ],
   "execution_count": 14
  },
  {
   "cell_type": "code",
   "source": [
    "import neal\n",
    "sa = neal.SimulatedAnnealingSampler()\n",
    "sampleset = sa.sample(bqm, num_reads=50, num_sweeps=10000)\n",
    "\n",
    "# Decode solution\n",
    "decoded_samples = model.decode_sampleset(sampleset, feed_dict=feed_dict)\n",
    "best_sample = min(decoded_samples, key=lambda x: x.energy)\n",
    "num_violated = len(best_sample.constraints(only_broken=True))\n",
    "print(\"number of violated constraint = {}\".format(num_violated))\n",
    "print(\"violated constraints: \",best_sample.constraints(only_broken=True))\n",
    "print(\"energy: \",best_sample.energy)\n",
    "\n",
    "# Print the best sample's binary vector\n",
    "print(best_sample.sample)"
   ],
   "metadata": {
    "collapsed": false,
    "pycharm": {
     "name": "#%%\n"
    },
    "ExecuteTime": {
     "end_time": "2024-09-17T17:29:50.036864Z",
     "start_time": "2024-09-17T17:29:49.696144Z"
    }
   },
   "outputs": [
    {
     "name": "stdout",
     "output_type": "stream",
     "text": [
      "number of violated constraint = 0\n",
      "violated constraints:  {}\n",
      "energy:  0.0\n",
      "{'c[9][3]': 0, 'c[3][1]': 0, 'c[0][0]': 0, 'c[7][4]': 0, 'c[1][2]': 0, 'c[9][2]': 0, 'c[3][0]': 1, 'c[0][1]': 0, 'c[1][1]': 0, 'c[9][1]': 1, 'c[3][3]': 0, 'c[0][2]': 0, 'c[1][0]': 0, 'c[9][0]': 0, 'c[3][2]': 0, 'c[0][3]': 0, 'c[0][4]': 1, 'c[4][4]': 0, 'c[1][3]': 1, 'c[7][2]': 1, 'c[4][3]': 0, 'c[1][4]': 0, 'c[6][4]': 0, 'c[2][0]': 0, 'c[2][1]': 0, 'c[2][2]': 1, 'c[2][3]': 0, 'c[6][0]': 0, 'c[2][4]': 0, 'c[3][4]': 0, 'c[7][1]': 0, 'c[4][0]': 0, 'c[7][0]': 0, 'c[4][1]': 1, 'c[7][3]': 0, 'c[4][2]': 0, 'c[5][0]': 1, 'c[5][1]': 0, 'c[5][2]': 0, 'c[5][3]': 0, 'c[5][4]': 0, 'c[6][1]': 0, 'c[6][2]': 1, 'c[6][3]': 0, 'c[8][0]': 0, 'c[8][1]': 0, 'c[8][2]': 0, 'c[8][3]': 1, 'c[8][4]': 0, 'c[9][4]': 0}\n"
     ]
    }
   ],
   "execution_count": 15
  },
  {
   "metadata": {
    "ExecuteTime": {
     "end_time": "2024-09-17T17:29:57.812193Z",
     "start_time": "2024-09-17T17:29:50.037960Z"
    }
   },
   "cell_type": "code",
   "source": [
    "import minorminer\n",
    "\n",
    "# Solve using pure quantum computation\n",
    "if len(qubo_matrix) <= 500:  # Difficult to run if the matrix size exceeds 500\n",
    "    from dwave.system import DWaveSampler, EmbeddingComposite\n",
    "    from dwave.embedding.chain_breaks import majority_vote, weighted_random\n",
    "\n",
    "    # Initialize the D-Wave sampler with embedding capabilities\n",
    "    sa = EmbeddingComposite(DWaveSampler(\n",
    "        token=\"\",  # Provide your D-Wave token here\n",
    "        solver={\"qpu\": True},\n",
    "        # Uncomment and specify a solver if necessary\n",
    "        # solver=\"Advantage2_prototype1.1\",\n",
    "        # solver=\"Advantage2_prototype2.3\",\n",
    "        # solver=\"Advantage_system4.1\",\n",
    "        # solver=\"Advantage_system6.4\",\n",
    "    ), find_embedding=minorminer.find_embedding, embedding_parameters={'timeout': 10})\n",
    "\n",
    "    # Sample from the BQM using the D-Wave sampler\n",
    "    sampleset = sa.sample(bqm, label='Exam Schedule DWaveSampler', num_reads=500, annealing_time=200, chain_break_method=majority_vote)\n",
    "    \n",
    "    # Decode the sampled solutions\n",
    "    decoded_samples = model.decode_sampleset(sampleset, feed_dict=feed_dict)\n",
    "    # Select the best sample based on energy\n",
    "    best_sample = min(decoded_samples, key=lambda x: x.energy)\n",
    "    # Count the number of broken constraints\n",
    "    num_broken = len(best_sample.constraints(only_broken=True))\n",
    "    \n",
    "    print(\"Number of unsatisfied constraints: {}\".format(num_broken))\n",
    "    print(\"Unsatisfied constraints:\", best_sample.constraints(only_broken=True))\n",
    "    print(\"Total score:\", best_sample.energy)\n",
    "    \n",
    "    # Print the best sample's binary vector\n",
    "    print(best_sample.sample)\n"
   ],
   "outputs": [
    {
     "name": "stdout",
     "output_type": "stream",
     "text": [
      "Number of unsatisfied constraints: 0\n",
      "Unsatisfied constraints: {}\n",
      "Total score: 0.0\n",
      "{'c[9][3]': 0, 'c[3][1]': 1, 'c[0][0]': 0, 'c[7][4]': 0, 'c[1][2]': 0, 'c[9][2]': 0, 'c[3][0]': 0, 'c[0][1]': 0, 'c[1][1]': 0, 'c[9][1]': 0, 'c[3][3]': 0, 'c[0][2]': 0, 'c[1][0]': 0, 'c[9][0]': 1, 'c[3][2]': 0, 'c[0][3]': 0, 'c[0][4]': 1, 'c[4][4]': 0, 'c[1][3]': 1, 'c[7][2]': 0, 'c[4][3]': 0, 'c[1][4]': 0, 'c[6][4]': 0, 'c[2][0]': 0, 'c[2][1]': 0, 'c[2][2]': 1, 'c[2][3]': 0, 'c[6][0]': 0, 'c[2][4]': 0, 'c[3][4]': 0, 'c[7][1]': 0, 'c[4][0]': 1, 'c[7][0]': 0, 'c[4][1]': 0, 'c[7][3]': 1, 'c[4][2]': 0, 'c[5][0]': 0, 'c[5][1]': 0, 'c[5][2]': 0, 'c[5][3]': 0, 'c[5][4]': 1, 'c[6][1]': 0, 'c[6][2]': 1, 'c[6][3]': 0, 'c[8][0]': 0, 'c[8][1]': 1, 'c[8][2]': 0, 'c[8][3]': 0, 'c[8][4]': 0, 'c[9][4]': 0}\n"
     ]
    }
   ],
   "execution_count": 16
  },
  {
   "metadata": {
    "ExecuteTime": {
     "end_time": "2024-09-17T17:30:11.919748Z",
     "start_time": "2024-09-17T17:29:57.813193Z"
    }
   },
   "cell_type": "code",
   "source": [
    "# Hybrid solver approach\n",
    "from dwave.system import LeapHybridSampler\n",
    "\n",
    "# Initialize the Leap Hybrid Sampler with your D-Wave token\n",
    "sa = LeapHybridSampler(token=\"\")\n",
    "\n",
    "# Sample from the BQM using the Leap Hybrid Sampler\n",
    "# The time_limit specifies the maximum time in seconds for solving the problem\n",
    "sampleset = sa.sample(bqm, label='Exam Schedule LeapHybridSampler',time_limit=None)\n",
    "\n",
    "# Decode the solutions from the sampleset\n",
    "decoded_samples = model.decode_sampleset(sampleset, feed_dict=feed_dict)\n",
    "\n",
    "# Select the best sample based on energy\n",
    "best_sample = min(decoded_samples, key=lambda x: x.energy)\n",
    "\n",
    "# Count the number of violated constraints in the best sample\n",
    "num_violated = len(best_sample.constraints(only_broken=True))\n",
    "\n",
    "print(\"Number of violated constraints = {}\".format(num_violated))\n",
    "print(\"Violated constraints: \", best_sample.constraints(only_broken=True))\n",
    "print(\"Energy: \", best_sample.energy)\n",
    "\n",
    "# Print the best sample's binary vector\n",
    "print(best_sample.sample)"
   ],
   "outputs": [
    {
     "name": "stdout",
     "output_type": "stream",
     "text": [
      "Number of violated constraints = 0\n",
      "Violated constraints:  {}\n",
      "Energy:  0.0\n",
      "{'c[9][3]': 0, 'c[3][1]': 0, 'c[0][0]': 0, 'c[7][4]': 1, 'c[1][2]': 0, 'c[9][2]': 0, 'c[3][0]': 0, 'c[0][1]': 0, 'c[1][1]': 0, 'c[9][1]': 1, 'c[3][3]': 0, 'c[0][2]': 1, 'c[1][0]': 0, 'c[9][0]': 0, 'c[3][2]': 0, 'c[0][3]': 0, 'c[0][4]': 0, 'c[4][4]': 0, 'c[1][3]': 1, 'c[7][2]': 0, 'c[4][3]': 0, 'c[1][4]': 0, 'c[6][4]': 0, 'c[2][0]': 1, 'c[2][1]': 0, 'c[2][2]': 0, 'c[2][3]': 0, 'c[6][0]': 1, 'c[2][4]': 0, 'c[3][4]': 1, 'c[7][1]': 0, 'c[4][0]': 0, 'c[7][0]': 0, 'c[4][1]': 1, 'c[7][3]': 0, 'c[4][2]': 0, 'c[5][0]': 0, 'c[5][1]': 0, 'c[5][2]': 0, 'c[5][3]': 0, 'c[5][4]': 1, 'c[6][1]': 0, 'c[6][2]': 0, 'c[6][3]': 0, 'c[8][0]': 0, 'c[8][1]': 1, 'c[8][2]': 0, 'c[8][3]': 0, 'c[8][4]': 0, 'c[9][4]': 0}\n"
     ]
    }
   ],
   "execution_count": 17
  },
  {
   "cell_type": "code",
   "source": [
    "# Exam scheduling matrix solution (columns represent batches; rows represent courses)\n",
    "plan = pd.DataFrame(0, index=lesson_count.index, columns=np.arange(n_batch) + 1)\n",
    "\n",
    "# Populate the schedule matrix based on the best sample\n",
    "for i in range(n_lesson):\n",
    "    for k in range(n_batch):\n",
    "        # Check if the variable corresponding to course i and batch k is set to 1\n",
    "        if best_sample.sample['c[%d][%d]' % (i, k)] == 1:\n",
    "            # Mark the presence of the course in the specified batch\n",
    "            plan.iloc[i, k] = 1\n",
    "\n",
    "# Optionally save the schedule matrix to an Excel file\n",
    "# plan.to_excel(\"plan.xlsx\")\n",
    "\n",
    "# Create a binary image representation of the scheduling matrix\n",
    "create_binary_img(plan, xlabel='Batch', ylabel='Course', savefig='img/plan')\n",
    "\n",
    "# Display the scheduling matrix\n",
    "plan"
   ],
   "metadata": {
    "collapsed": false,
    "pycharm": {
     "name": "#%%\n"
    },
    "ExecuteTime": {
     "end_time": "2024-09-17T17:30:12.155773Z",
     "start_time": "2024-09-17T17:30:11.920760Z"
    }
   },
   "outputs": [
    {
     "data": {
      "text/plain": [
       "<Figure size 300x300 with 1 Axes>"
      ],
      "image/png": "[encoded data removed]"
     },
     "metadata": {},
     "output_type": "display_data"
    },
    {
     "data": {
      "text/plain": [
       "          1  2  3  4  5\n",
       "CourseID               \n",
       "A         0  0  1  0  0\n",
       "B         0  0  0  1  0\n",
       "C         1  0  0  0  0\n",
       "D         0  0  0  0  1\n",
       "E         0  1  0  0  0\n",
       "F         0  0  0  0  1\n",
       "G         1  0  0  0  0\n",
       "H         0  0  0  0  1\n",
       "I         0  1  0  0  0\n",
       "J         0  1  0  0  0"
      ],
      "text/html": [
       "<div>\n",
       "<style scoped>\n",
       "    .dataframe tbody tr th:only-of-type {\n",
       "        vertical-align: middle;\n",
       "    }\n",
       "\n",
       "    .dataframe tbody tr th {\n",
       "        vertical-align: top;\n",
       "    }\n",
       "\n",
       "    .dataframe thead th {\n",
       "        text-align: right;\n",
       "    }\n",
       "</style>\n",
       "<table border=\"1\" class=\"dataframe\">\n",
       "  <thead>\n",
       "    <tr style=\"text-align: right;\">\n",
       "      <th></th>\n",
       "      <th>1</th>\n",
       "      <th>2</th>\n",
       "      <th>3</th>\n",
       "      <th>4</th>\n",
       "      <th>5</th>\n",
       "    </tr>\n",
       "    <tr>\n",
       "      <th>CourseID</th>\n",
       "      <th></th>\n",
       "      <th></th>\n",
       "      <th></th>\n",
       "      <th></th>\n",
       "      <th></th>\n",
       "    </tr>\n",
       "  </thead>\n",
       "  <tbody>\n",
       "    <tr>\n",
       "      <th>A</th>\n",
       "      <td>0</td>\n",
       "      <td>0</td>\n",
       "      <td>1</td>\n",
       "      <td>0</td>\n",
       "      <td>0</td>\n",
       "    </tr>\n",
       "    <tr>\n",
       "      <th>B</th>\n",
       "      <td>0</td>\n",
       "      <td>0</td>\n",
       "      <td>0</td>\n",
       "      <td>1</td>\n",
       "      <td>0</td>\n",
       "    </tr>\n",
       "    <tr>\n",
       "      <th>C</th>\n",
       "      <td>1</td>\n",
       "      <td>0</td>\n",
       "      <td>0</td>\n",
       "      <td>0</td>\n",
       "      <td>0</td>\n",
       "    </tr>\n",
       "    <tr>\n",
       "      <th>D</th>\n",
       "      <td>0</td>\n",
       "      <td>0</td>\n",
       "      <td>0</td>\n",
       "      <td>0</td>\n",
       "      <td>1</td>\n",
       "    </tr>\n",
       "    <tr>\n",
       "      <th>E</th>\n",
       "      <td>0</td>\n",
       "      <td>1</td>\n",
       "      <td>0</td>\n",
       "      <td>0</td>\n",
       "      <td>0</td>\n",
       "    </tr>\n",
       "    <tr>\n",
       "      <th>F</th>\n",
       "      <td>0</td>\n",
       "      <td>0</td>\n",
       "      <td>0</td>\n",
       "      <td>0</td>\n",
       "      <td>1</td>\n",
       "    </tr>\n",
       "    <tr>\n",
       "      <th>G</th>\n",
       "      <td>1</td>\n",
       "      <td>0</td>\n",
       "      <td>0</td>\n",
       "      <td>0</td>\n",
       "      <td>0</td>\n",
       "    </tr>\n",
       "    <tr>\n",
       "      <th>H</th>\n",
       "      <td>0</td>\n",
       "      <td>0</td>\n",
       "      <td>0</td>\n",
       "      <td>0</td>\n",
       "      <td>1</td>\n",
       "    </tr>\n",
       "    <tr>\n",
       "      <th>I</th>\n",
       "      <td>0</td>\n",
       "      <td>1</td>\n",
       "      <td>0</td>\n",
       "      <td>0</td>\n",
       "      <td>0</td>\n",
       "    </tr>\n",
       "    <tr>\n",
       "      <th>J</th>\n",
       "      <td>0</td>\n",
       "      <td>1</td>\n",
       "      <td>0</td>\n",
       "      <td>0</td>\n",
       "      <td>0</td>\n",
       "    </tr>\n",
       "  </tbody>\n",
       "</table>\n",
       "</div>"
      ]
     },
     "execution_count": 18,
     "metadata": {},
     "output_type": "execute_result"
    }
   ],
   "execution_count": 18
  },
  {
   "cell_type": "code",
   "source": [
    "# Calculate the number of subjects scheduled in each batch\n",
    "number_of_subjects_per_batch = plan.sum()\n",
    "number_of_subjects_per_batch"
   ],
   "metadata": {
    "collapsed": false,
    "pycharm": {
     "name": "#%%\n"
    },
    "ExecuteTime": {
     "end_time": "2024-09-17T17:30:12.172017Z",
     "start_time": "2024-09-17T17:30:12.157185Z"
    }
   },
   "outputs": [
    {
     "data": {
      "text/plain": [
       "1    2\n",
       "2    3\n",
       "3    1\n",
       "4    1\n",
       "5    3\n",
       "dtype: int64"
      ]
     },
     "execution_count": 19,
     "metadata": {},
     "output_type": "execute_result"
    }
   ],
   "execution_count": 19
  },
  {
   "cell_type": "code",
   "source": [
    "# Convert to a Student-Batch matrix\n",
    "Splan = pd.DataFrame(\"-\", columns=np.arange(n_batch) + 1, index=test.index)\n",
    "\n",
    "# Populate the Student-Batch matrix\n",
    "for lesson in plan.index:\n",
    "    for batch in plan.columns:\n",
    "        if plan.loc[lesson, batch] > 0:\n",
    "            # Find all students scheduled for this course\n",
    "            student_ids = test[test[lesson] == 1].index\n",
    "            # Mark these students as having this course in the specified batch\n",
    "            Splan.loc[student_ids, batch] = lesson\n",
    "\n",
    "# Save the Student-Batch matrix to an Excel file\n",
    "# Splan.to_excel(\"Splan.xlsx\")\n",
    "\n",
    "# Display the Student-Batch matrix\n",
    "Splan"
   ],
   "metadata": {
    "collapsed": false,
    "pycharm": {
     "name": "#%%\n"
    },
    "ExecuteTime": {
     "end_time": "2024-09-17T17:30:12.187587Z",
     "start_time": "2024-09-17T17:30:12.173247Z"
    }
   },
   "outputs": [
    {
     "data": {
      "text/plain": [
       "           1  2  3  4  5\n",
       "StudentID               \n",
       "S1         C  E  A  B  D\n",
       "S2         C  E  -  B  F\n",
       "S3         G  -  A  -  D\n",
       "S4         -  I  A  -  H\n",
       "S5         C  J  -  -  -\n",
       "S6         -  J  -  B  -"
      ],
      "text/html": [
       "<div>\n",
       "<style scoped>\n",
       "    .dataframe tbody tr th:only-of-type {\n",
       "        vertical-align: middle;\n",
       "    }\n",
       "\n",
       "    .dataframe tbody tr th {\n",
       "        vertical-align: top;\n",
       "    }\n",
       "\n",
       "    .dataframe thead th {\n",
       "        text-align: right;\n",
       "    }\n",
       "</style>\n",
       "<table border=\"1\" class=\"dataframe\">\n",
       "  <thead>\n",
       "    <tr style=\"text-align: right;\">\n",
       "      <th></th>\n",
       "      <th>1</th>\n",
       "      <th>2</th>\n",
       "      <th>3</th>\n",
       "      <th>4</th>\n",
       "      <th>5</th>\n",
       "    </tr>\n",
       "    <tr>\n",
       "      <th>StudentID</th>\n",
       "      <th></th>\n",
       "      <th></th>\n",
       "      <th></th>\n",
       "      <th></th>\n",
       "      <th></th>\n",
       "    </tr>\n",
       "  </thead>\n",
       "  <tbody>\n",
       "    <tr>\n",
       "      <th>S1</th>\n",
       "      <td>C</td>\n",
       "      <td>E</td>\n",
       "      <td>A</td>\n",
       "      <td>B</td>\n",
       "      <td>D</td>\n",
       "    </tr>\n",
       "    <tr>\n",
       "      <th>S2</th>\n",
       "      <td>C</td>\n",
       "      <td>E</td>\n",
       "      <td>-</td>\n",
       "      <td>B</td>\n",
       "      <td>F</td>\n",
       "    </tr>\n",
       "    <tr>\n",
       "      <th>S3</th>\n",
       "      <td>G</td>\n",
       "      <td>-</td>\n",
       "      <td>A</td>\n",
       "      <td>-</td>\n",
       "      <td>D</td>\n",
       "    </tr>\n",
       "    <tr>\n",
       "      <th>S4</th>\n",
       "      <td>-</td>\n",
       "      <td>I</td>\n",
       "      <td>A</td>\n",
       "      <td>-</td>\n",
       "      <td>H</td>\n",
       "    </tr>\n",
       "    <tr>\n",
       "      <th>S5</th>\n",
       "      <td>C</td>\n",
       "      <td>J</td>\n",
       "      <td>-</td>\n",
       "      <td>-</td>\n",
       "      <td>-</td>\n",
       "    </tr>\n",
       "    <tr>\n",
       "      <th>S6</th>\n",
       "      <td>-</td>\n",
       "      <td>J</td>\n",
       "      <td>-</td>\n",
       "      <td>B</td>\n",
       "      <td>-</td>\n",
       "    </tr>\n",
       "  </tbody>\n",
       "</table>\n",
       "</div>"
      ]
     },
     "execution_count": 20,
     "metadata": {},
     "output_type": "execute_result"
    }
   ],
   "execution_count": 20
  },
  {
   "cell_type": "code",
   "source": [
    "# Count the number of students per batch\n",
    "student_counts_per_batch = Splan.applymap(lambda x: None if x == \"-\" else x).count()\n",
    "\n",
    "# Display the counts\n",
    "student_counts_per_batch"
   ],
   "metadata": {
    "collapsed": false,
    "pycharm": {
     "name": "#%%\n"
    },
    "ExecuteTime": {
     "end_time": "2024-09-17T17:30:12.202823Z",
     "start_time": "2024-09-17T17:30:12.188305Z"
    }
   },
   "outputs": [
    {
     "data": {
      "text/plain": [
       "1    4\n",
       "2    5\n",
       "3    3\n",
       "4    3\n",
       "5    4\n",
       "dtype: int64"
      ]
     },
     "execution_count": 21,
     "metadata": {},
     "output_type": "execute_result"
    }
   ],
   "execution_count": 21
  }
 ],
 "metadata": {
  "kernelspec": {
   "display_name": "Python 3 (ipykernel)",
   "language": "python",
   "name": "python3"
  },
  "language_info": {
   "codemirror_mode": {
    "name": "ipython",
    "version": 3
   },
   "file_extension": ".py",
   "mimetype": "text/x-python",
   "name": "python",
   "nbconvert_exporter": "python",
   "pygments_lexer": "ipython3",
   "version": "3.8.16"
  }
 },
 "nbformat": 4,
 "nbformat_minor": 1
}
